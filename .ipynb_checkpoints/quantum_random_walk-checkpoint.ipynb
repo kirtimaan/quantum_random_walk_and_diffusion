{
 "cells": [
  {
   "cell_type": "markdown",
   "metadata": {
    "colab_type": "text",
    "id": "view-in-github"
   },
   "source": [
    "<a href=\"https://colab.research.google.com/github/JavaFXpert/qiskit4devs-workshop-notebooks/blob/master/quantum_coin_flipping.ipynb\" target=\"_parent\"><img src=\"https://colab.research.google.com/assets/colab-badge.svg\" alt=\"Open In Colab\"/></a>"
   ]
  },
  {
   "cell_type": "markdown",
   "metadata": {
    "colab_type": "text",
    "id": "-Lh381LZkY9W"
   },
   "source": [
    "# Walking radomly with a quantum computer\n",
    "Imagine walking down a road and with a coin in hand. Before you take your next step you flip a coin to decide whether to walk one step forward or one step back:\n",
    "- Heads: You take one step forward.\n",
    "- Tails: You take one step backward.\n",
    "\n",
    "After 10 steps where would you end up? This is a simple enough experiment to perform.\n",
    "Now imagine that you wanted to determine what your average displacement would be from your starting point. You have three options \n",
    "\n",
    "1. You repeat this experiment a 1000 times ($10 \\times 1000 = 10,000$ steps).\n",
    "2. Get everyone at MSU to perform this experiment and ask them to report their findings.\n",
    "3. Simulate this on a computer in a few minutes\n",
    "\n",
    "We are going to use option 3 here. Specifically we will use a quantum computer to simulate a coin toss. \n",
    "We will be using qiskit python libraries developed by IBM in this notebook to perform this task and understand the details of random walk.\n",
    "\n",
    "\n",
    "\n"
   ]
  },
  {
   "cell_type": "markdown",
   "metadata": {},
   "source": [
    "# Learning Goals\n",
    "1. Learn how to work with jupyter notebooks in the google colab environment\n",
    "2. Learn how to build a quantum circuit that simulates a coin flip.\n",
    "3. Learn how to simulate random walk with a quantum computer\n",
    "4. Use this simulation to learn about the different properties of your random walk.\n",
    "5. "
   ]
  },
  {
   "cell_type": "markdown",
   "metadata": {},
   "source": [
    "# Initializing your setup\n",
    "You will need to run the code block below to ensure that all the libraries are installed in your environment and are correctly imported. It is not necessary for you to understand whats going on here, however if you would like to please refer to the python programming documentation.\n",
    "This may take a minute or two to run. \n",
    "Note: In order to run a block of code you can select run and either hit Run on top or press Shift+Enter on your keyboard."
   ]
  },
  {
   "cell_type": "code",
   "execution_count": 1,
   "metadata": {
    "colab": {},
    "colab_type": "code",
    "id": "MFyUj-8yI9JG"
   },
   "outputs": [],
   "source": [
    "#!pip install qiskit\n",
    "# Include the necessary imports for this program\n",
    "import numpy as np\n",
    "from qiskit import QuantumCircuit, ClassicalRegister, QuantumRegister\n",
    "from qiskit import execute\n",
    "\n",
    "# Import plotting libraries\n",
    "import matplotlib.pyplot as plt\n",
    "import numpy as np\n",
    "from matplotlib import colors\n",
    "from matplotlib.ticker import PercentFormatter\n",
    "\n",
    "# Fixing random state for reproducibility\n",
    "#np.random.seed(19680801)"
   ]
  },
  {
   "cell_type": "markdown",
   "metadata": {},
   "source": [
    "# Flipping a coin quantumly\n",
    "Each time you flip a fair coin, each of the outcomes (Head or Tails) has a $\\frac{1}{2}$ probability. \n",
    "In order to do this on a quantum computer we will need to set up a quantum circuit. \n",
    "A quantum circuit consists of \n",
    "- A quantum states \n",
    "- quantum gates that perform operations on the quantum state \n",
    "- and a measurement device. \n",
    "\n",
    "Think of the quantum state as a coin and the gate as your hand that actualy flips the coin. \n",
    "Finally we need eyes to record the result of our coin flip and for that we need a measurement device that observes what state the coin has been flipped in.\n",
    "Once flipped and then measured, there are two possible outcomes the quantum state is either in a  0 or 1 state.\n",
    "- By 0 we will denote Tails.\n",
    "- By 1 we will denote Heads.\n",
    "\n",
    "We will first setup a quantum circuit with \n",
    "- A quantum register that contains the quantum state\n",
    "- A [Hadamard gate](https://en.wikipedia.org/wiki/Quantum_logic_gate#Hadamard_(H)_gate \"Hadamard gate on Wikipedia\") that will perform the coin flip (quantum state flip)\n",
    "- A classical register that will record and store the result of the coin flip (quantum state flip)\n",
    "\n",
    "\n"
   ]
  },
  {
   "cell_type": "code",
   "execution_count": 2,
   "metadata": {
    "colab": {},
    "colab_type": "code",
    "id": "qTJMysLtJpsF"
   },
   "outputs": [
    {
     "data": {
      "image/png": "[encoded data removed]",
      "text/plain": [
       "<Figure size 244.412x144.48 with 1 Axes>"
      ]
     },
     "execution_count": 2,
     "metadata": {},
     "output_type": "execute_result"
    }
   ],
   "source": [
    "# Create a Quantum Register with 1 qubit (wire).\n",
    "quantum_register = QuantumRegister(1)\n",
    "\n",
    "# Create a Classical Register with 1 bit (double wire).\n",
    "classical_register = ClassicalRegister(1)\n",
    "\n",
    "# Create a Quantum Circuit from the quantum and classical registers\n",
    "circuit = QuantumCircuit(quantum_register, classical_register)\n",
    "\n",
    "# Place an Hadamard gate on the qubit wire\n",
    "circuit.h(quantum_register[0])\n",
    "\n",
    "# Measure the qubit into the classical register\n",
    "circuit.measure(quantum_register, classical_register)\n",
    "\n",
    "# Draw the circuit\n",
    "circuit.draw(output='mpl')\n"
   ]
  },
  {
   "cell_type": "markdown",
   "metadata": {
    "colab_type": "text",
    "id": "Ze1KvaGtumdf"
   },
   "source": [
    "If the above code ran correctly you should be able to see a quantum circuit like below\n",
    "<img src=\"files/qc.png\">\n",
    "Congratulations you have just created your first quantum circuit.\n",
    "- The Blue box denoted with a 'H' is called a Hadamard quantum gate that flips the quantum state.\n",
    "- The Black box measures the quantum state.\n"
   ]
  },
  {
   "cell_type": "markdown",
   "metadata": {},
   "source": [
    "# Extra Information about quantum mechanics and quantum states\n",
    "\n",
    "The information here is for the curious mind, and is not necessary, you may skip ahead.\n",
    "\n",
    "Quantum states denoted by $\\vert\\ \\rangle$ the kind of quantum states that we will use are usually referred to as bipartitite quantum states, i.e. can only be observed to be a in the state  $\\vert0\\rangle$ or $\\vert1\\rangle$.\n",
    "The funny thing about quantum states is that they can exist as a superposition of states,i.e.$\\vert0\\rangle \\pm \\vert1\\rangle$. For example a quantum state can simultaneously be Heads or Tails! \n",
    "quantum gates that perform operations on the quantum state and a measurement device. \n",
    "To demonstrate the Hadamard gate, we'll create a simple quantum circuit with the [Qiskit](https://qiskit.org/) framework after we've imported the necessary items."
   ]
  },
  {
   "cell_type": "markdown",
   "metadata": {},
   "source": [
    "# Running your quantum circuit\n",
    "Now that the quantum circuit has been defined and drawn, let's execute it on a quantum simulator, running the circuit once. Each run and measurement of the circuit is called a *shot*. In other words, the number of shots tells me how many times I am flipping the coin.\n",
    "We will visualize the result of your run in the form of a histogram."
   ]
  },
  {
   "cell_type": "code",
   "execution_count": 5,
   "metadata": {
    "colab": {},
    "colab_type": "code",
    "id": "q9VtcrnDKmd1"
   },
   "outputs": [
    {
     "name": "stdout",
     "output_type": "stream",
     "text": [
      "{'1': 1}\n"
     ]
    },
    {
     "data": {
      "image/png": "[encoded data removed]",
      "text/plain": [
       "<Figure size 504x360 with 1 Axes>"
      ]
     },
     "execution_count": 5,
     "metadata": {},
     "output_type": "execute_result"
    }
   ],
   "source": [
    "#The number of times to run the circuit\n",
    "number_of_shots=1\n",
    "# Import BasicAer\n",
    "from qiskit import BasicAer\n",
    "\n",
    "# Use BasicAer's qasm_simulator\n",
    "backend_sim = BasicAer.get_backend('qasm_simulator')\n",
    "\n",
    "# Execute the circuit on the qasm simulator, running it \"number_of_shots\" times.\n",
    "job_sim = execute(circuit, backend_sim, shots=number_of_shots)\n",
    "\n",
    "# Grab the results from the job.\n",
    "result_sim = job_sim.result()\n",
    "\n",
    "# Print the counts, which are contained in a Python dictionary\n",
    "counts = result_sim.get_counts(circuit)\n",
    "print(counts)\n",
    "\n",
    "from qiskit.tools.visualization import plot_histogram\n",
    "\n",
    "# Plot the results on a bar chart\n",
    "plot_histogram(counts)"
   ]
  },
  {
   "cell_type": "markdown",
   "metadata": {
    "colab_type": "text",
    "id": "F1ZxWlWGyK-3"
   },
   "source": [
    "# Question 1\n",
    "\n",
    "- What do you see?  Discuss with your group how to interpret the histogram.\n",
    "- Change the number_of_shots to 100 or 1000 - doing this correspinds to flipping a coin 100 or 1000 times. What should you expect to see? What do the x and y axis of the plot indicate?"
   ]
  },
  {
   "cell_type": "markdown",
   "metadata": {},
   "source": [
    "# Quantum Random walk generator\n",
    "Now that we have our quantum coin flipper (our quantum circuit) ready, we are going to flip our quantum coin a 100 times and count the number of times we get 1s and the number of times we get 0s.\n",
    "If we get 50 Heads and 50 Tails, then we have taken 50 steps to the front and 50 steps back, so we are back to where we started. \n",
    "Run the code a couple of times to determine where your location should be after 100 steps. Note that we are starting from the origin at 0.\n",
    "Is your location the same each time you run the code? Discuss with your group why your location changes each time.\n"
   ]
  },
  {
   "cell_type": "code",
   "execution_count": 13,
   "metadata": {
    "colab": {},
    "colab_type": "code",
    "id": "Pu-omNpDsCJ7",
    "scrolled": true
   },
   "outputs": [
    {
     "data": {
      "text/plain": [
       "(array([  1.,   0.,   4.,   0.,   6.,  10.,   9.,  21.,  33.,  60., 108.,\n",
       "        159., 210., 304., 375., 497., 567., 676., 714., 788., 770., 816.,\n",
       "        778., 676., 578., 477., 391., 316., 220., 146., 112.,  71.,  44.,\n",
       "         22.,  17.,  11.,   5.,   6.,   0.,   1.,   1.]),\n",
       " array([-40.5       , -38.52439024, -36.54878049, -34.57317073,\n",
       "        -32.59756098, -30.62195122, -28.64634146, -26.67073171,\n",
       "        -24.69512195, -22.7195122 , -20.74390244, -18.76829268,\n",
       "        -16.79268293, -14.81707317, -12.84146341, -10.86585366,\n",
       "         -8.8902439 ,  -6.91463415,  -4.93902439,  -2.96341463,\n",
       "         -0.98780488,   0.98780488,   2.96341463,   4.93902439,\n",
       "          6.91463415,   8.8902439 ,  10.86585366,  12.84146341,\n",
       "         14.81707317,  16.79268293,  18.76829268,  20.74390244,\n",
       "         22.7195122 ,  24.69512195,  26.67073171,  28.64634146,\n",
       "         30.62195122,  32.59756098,  34.57317073,  36.54878049,\n",
       "         38.52439024,  40.5       ]),\n",
       " <a list of 41 Patch objects>)"
      ]
     },
     "execution_count": 13,
     "metadata": {},
     "output_type": "execute_result"
    },
    {
     "data": {
      "image/png": "[encoded data removed]",
      "text/plain": [
       "<Figure size 432x288 with 1 Axes>"
      ]
     },
     "metadata": {
      "needs_background": "light"
     },
     "output_type": "display_data"
    }
   ],
   "source": [
    "#number of steps\n",
    "number_of_steps=100\n",
    "# number of time we run each 100 step trial\n",
    "number_of_trials=10000\n",
    "# Import BasicAer\n",
    "from qiskit import BasicAer\n",
    "\n",
    "# Use BasicAer's qasm_simulator\n",
    "backend_sim2 = BasicAer.get_backend('qasm_simulator')\n",
    "\n",
    "histarr=np.array([])\n",
    "\n",
    "for i in range(number_of_trials):\n",
    "# Execute the circuit on the qasm simulator, running it number_of_steps times.\n",
    "    job_sim2 = execute(circuit, backend_sim2, shots=number_of_steps)\n",
    "\n",
    "# Grab the results from the job.\n",
    "    result_sim2 = job_sim2.result()\n",
    "# Get the counts, which are contained in a Python dictionary\n",
    "    counts2 = result_sim2.get_counts(circuit)\n",
    "# Determine net number of steps walked \n",
    "    steps= np.array([(counts2['0'] - counts2['1'])])\n",
    "    histarr=np.append(histarr,steps)\n",
    "\n",
    "# Make histogram    \n",
    "plt.xlabel(\"Location after 100 steps\")\n",
    "plt.ylabel(\"# of times I ended up at this location\")    \n",
    "plt.hist(histarr,bins=41,range=(-40.5,40.5))    \n",
    "    \n",
    "\n"
   ]
  },
  {
   "cell_type": "markdown",
   "metadata": {
    "colab_type": "text",
    "id": "Pk3WL9P9sCJ9"
   },
   "source": [
    "# Probability distribution for random walk\n",
    "By running the code a few times you should have seen that for each trial of 100 steps you ended up at a different location. \n",
    "We are now going to try to answer the question: How often are we going to end up +10 steps from where we started or -20 steps or 0 steps?\n",
    "In other words we are now going to determine the probability distribution for ending up at a particular location.\n",
    "In order to do this we will rerun our simulation of a 100 step random walk atleast a 10,000 times - do this by changing the value of the  variable number_of_trials above from 1 to 10000.\n",
    "This will take a minute to run - be patient and try to predict the answers to the questions below.\n"
   ]
  },
  {
   "cell_type": "markdown",
   "metadata": {},
   "source": [
    "# Question 2\n",
    "- If you were to do a 100 step random walk, what is the most likely location that you would end up in ? i.e. From your graph what is your most probable location.\n",
    "- Describe the shape of the graph that you see: be creative in the choice of your words?\n",
    "- How often will you end up +40 or -40 steps away from your starting point (0)?"
   ]
  },
  {
   "cell_type": "markdown",
   "metadata": {},
   "source": [
    "# Gaussian or Normal Distribution\n",
    "The curve that you saw in your random walk trials is called a Gaussian or [Normal distribution](https://en.wikipedia.org/wiki/Normal_distribution) and takes the form:\n",
    "\n",
    "$ f(x | \\mu, \\sigma) = \\frac{1}{\\sqrt{2 \\pi \\sigma^2}}  e^{- \\frac{(x -\\mu)^2}{2 \\sigma^2}}$\n",
    "\n",
    "Here $\\mu$ is the mean value (or average) of the distribution and $\\sigma$ is the standard deviation. \n",
    "For your trials you should have found the average to be zero ($\\mu =0 $) and the standard deviation $\\sigma = \\sqrt{number of steps}$. \n",
    "Lets test this out by plotting both the histogram from our simulation as well as the function above.\n"
   ]
  },
  {
   "cell_type": "code",
   "execution_count": 42,
   "metadata": {},
   "outputs": [
    {
     "data": {
      "image/png": "[encoded data removed]",
      "text/plain": [
       "<Figure size 432x288 with 1 Axes>"
      ]
     },
     "metadata": {
      "needs_background": "light"
     },
     "output_type": "display_data"
    }
   ],
   "source": [
    "# mean or average\n",
    "mu = 0 \n",
    "# Variance or standard deviation\n",
    "sigma = np.sqrt(number_of_steps) # mean and standard deviation\n",
    "count, bins, ignored = plt.hist(histarr,bins=41,range=(-40.5,40.5))\n",
    "plt.plot( bins, 2*number_of_trials/(sigma * np.sqrt(2 * np.pi))*np.exp( - (bins - mu)**2 / (2 * sigma**2) ),linewidth=2, color='r')\n",
    "\n",
    "plt.show()"
   ]
  },
  {
   "cell_type": "markdown",
   "metadata": {},
   "source": [
    "# Great but what does this have to do with motion of atoms in gas?\n",
    "\n",
    "Imagine being in a very crowded place. To guide your imaginationa here's a picture of a crowded railway platform in Mumbai, India.\n",
    "<img src=\"files/crowd.jpg\">\n",
    "\n",
    "You try to walk in a straight line towards the exit but are constantly bumping into other people and are being tossed around in random directions. \n",
    "This is pretty much the story of an atom inside a gas.\n",
    "\n",
    "For an ideal gas, the atoms do not experience any force until they collide with other atoms. Once atoms collide, their trajectory changes. \n",
    "\n",
    "We can think of the distance between each collision that the atom experiences (aka mean free path) as the step size, and the direction in which the atom moves (front or back) is determined randomly just like a coin flip.\n",
    "Run the code below to see an animation of how an atom in an ideal gas moves.\n",
    "\n",
    "\n"
   ]
  },
  {
   "cell_type": "code",
   "execution_count": 45,
   "metadata": {},
   "outputs": [
    {
     "data": {
      "text/html": [
       "<img src=\"files/Brownianmotion5particles150frame.gif\">"
      ],
      "text/plain": [
       "<IPython.core.display.HTML object>"
      ]
     },
     "execution_count": 45,
     "metadata": {},
     "output_type": "execute_result"
    }
   ],
   "source": [
    "#Source wikipedia\n",
    "from IPython.display import HTML\n",
    "HTML('<img src=\"files/Brownianmotion5particles150frame.gif\">')"
   ]
  },
  {
   "cell_type": "markdown",
   "metadata": {},
   "source": [
    "Alright now that we know that an atom moves around in a random way and that randomness can be encoded in a normal distribution, what can we do with that information?\n"
   ]
  }
 ],
 "metadata": {
  "colab": {
   "collapsed_sections": [],
   "include_colab_link": true,
   "name": "quantum_coin_flipping.ipynb",
   "private_outputs": true,
   "provenance": [],
   "version": "0.3.2"
  },
  "kernelspec": {
   "display_name": "Python 3",
   "language": "python",
   "name": "python3"
  },
  "language_info": {
   "codemirror_mode": {
    "name": "ipython",
    "version": 3
   },
   "file_extension": ".py",
   "mimetype": "text/x-python",
   "name": "python",
   "nbconvert_exporter": "python",
   "pygments_lexer": "ipython3",
   "version": "3.7.4"
  }
 },
 "nbformat": 4,
 "nbformat_minor": 1
}
